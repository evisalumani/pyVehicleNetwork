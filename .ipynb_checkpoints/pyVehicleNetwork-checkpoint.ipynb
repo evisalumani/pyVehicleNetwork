{
 "cells": [
  {
   "cell_type": "markdown",
   "metadata": {
    "collapsed": true
   },
   "source": [
    "Visualize CAN Data"
   ]
  },
  {
   "cell_type": "code",
   "execution_count": 1,
   "metadata": {
    "collapsed": true
   },
   "outputs": [],
   "source": [
    "import ipywidgets as widgets"
   ]
  },
  {
   "cell_type": "code",
   "execution_count": 2,
   "metadata": {
    "collapsed": false
   },
   "outputs": [
    {
     "name": "stdout",
     "output_type": "stream",
     "text": [
      "Program Class\n"
     ]
    }
   ],
   "source": [
    "from program import Program\n",
    "program = Program('c000003', 'TSC1EMSTECU_EngReqTrq_HR', 'data/convereted_dbc_to_json.json', \"data/trace.asc\")\n",
    "#program.get_dataframe_from_signal_data()"
   ]
  },
  {
   "cell_type": "code",
   "execution_count": 5,
   "metadata": {
    "collapsed": false
   },
   "outputs": [
    {
     "data": {
      "text/plain": [
       "'EEC7_X_E'"
      ]
     },
     "execution_count": 5,
     "metadata": {},
     "output_type": "execute_result"
    }
   ],
   "source": [
    "program.message_definitions[0].name"
   ]
  },
  {
   "cell_type": "code",
   "execution_count": 6,
   "metadata": {
    "collapsed": false
   },
   "outputs": [
    {
     "data": {
      "text/plain": [
       "'18fd9400'"
      ]
     },
     "execution_count": 6,
     "metadata": {},
     "output_type": "execute_result"
    }
   ],
   "source": [
    "program.message_definitions[0].message_id"
   ]
  },
  {
   "cell_type": "code",
   "execution_count": 7,
   "metadata": {
    "collapsed": false
   },
   "outputs": [],
   "source": [
    "w = widgets.Dropdown(\n",
    "    options={'One': 0x1, 'Two': 0x2, 'Three': 0xa},\n",
    "    value=1,\n",
    "    description='Message:',\n",
    ")"
   ]
  },
  {
   "cell_type": "code",
   "execution_count": 13,
   "metadata": {
    "collapsed": false
   },
   "outputs": [
    {
     "name": "stdout",
     "output_type": "stream",
     "text": [
      "0xad4\n"
     ]
    }
   ],
   "source": [
    "\n",
    "hex_str = \"0xAD4\"\n",
    "hex_int = int(hex_str, 16)\n",
    "\n",
    "print(hex(hex_int))"
   ]
  },
  {
   "cell_type": "code",
   "execution_count": 8,
   "metadata": {
    "collapsed": false
   },
   "outputs": [
    {
     "name": "stdout",
     "output_type": "stream",
     "text": [
      "changed to  10\n"
     ]
    }
   ],
   "source": [
    "w"
   ]
  },
  {
   "cell_type": "code",
   "execution_count": 4,
   "metadata": {
    "collapsed": false
   },
   "outputs": [
    {
     "data": {
      "text/plain": [
       "{'ACK_X_ACM_BB1': '18e8ff3d',\n",
       " 'ACK_X_EMS': '18e8ff00',\n",
       " 'ACLAIM_X_ACM_BB1': '18eeff3d',\n",
       " 'ACLAIM_X_E': '18eeff00',\n",
       " 'ACM_BB1_01P': '18ffaa3d',\n",
       " 'AT1FC1_X_EMS': '18fda100',\n",
       " 'AT1T1I_X_ACM_BB1': '18fe563d',\n",
       " 'CM1_X_DCU': '18e00011',\n",
       " 'DD_X_EMS': '18fefc00',\n",
       " 'DM1_X_ACM': '18feca3d',\n",
       " 'DM1_X_EMS': '18feca00',\n",
       " 'EAC_X_E': '18fe9400',\n",
       " 'EC1_X_EMS': '18fee300',\n",
       " 'EEC1_X_EMS': 'cf00400',\n",
       " 'EEC2_X_EMS': 'cf00300',\n",
       " 'EEC3_X_EMS': '18fedf00',\n",
       " 'EEC7_X_E': '18fd9400',\n",
       " 'EFLP1_X_EMS': '18feef00',\n",
       " 'ERC1_ER': '18f0000f',\n",
       " 'ET1_X_EMS': '18feee00',\n",
       " 'ETC2_X_TECU': '18f00503',\n",
       " 'FD_X_E': '18febd00',\n",
       " 'HOURS_X_EMS': '18fee500',\n",
       " 'IC1_X_EMS': '18fef600',\n",
       " 'LFC_X_E': '18fee900',\n",
       " 'LFE_X_EMS': '18fef200',\n",
       " 'RequestPGN_EMS_DCU': '18ea0011',\n",
       " 'RequestPGN_EMS_GECU': '18ea00ea',\n",
       " 'RequestPGN_EMS_GVCU': '18ea00e6',\n",
       " 'RequestPGN_EMS_TECU': '18ea0003',\n",
       " 'SCR1_X_EMS': '18fd6e00',\n",
       " 'SHUTDOW_X_EMS': '18fee400',\n",
       " 'TPCM_X_ACM': '18ecff3d',\n",
       " 'TPCM_X_EMS': '18ecff00',\n",
       " 'TPDT_X_ACM': '18ebff3d',\n",
       " 'TPDT_X_EMS': '18ebff00',\n",
       " 'TSC1_EMS_DCU': 'c000011',\n",
       " 'TSC1_EMS_GECU': 'c0000ea',\n",
       " 'TSC1_EMS_GVCU': 'c0000e6',\n",
       " 'TSC1_EMS_TECU': 'c000003',\n",
       " 'TSC1_ER_DCU': 'c000f11',\n",
       " 'TSC1_ER_GVCU': 'c000fe6',\n",
       " 'VEP_X_EMS': '18fef700',\n",
       " 'VP191_X_EMS': '1cffbf00',\n",
       " 'VP219_X_EMS': '18ffdb00',\n",
       " 'VP70_X_DCU': 'cff4611',\n",
       " 'VP71_X_EMS': 'cff4700'}"
      ]
     },
     "execution_count": 4,
     "metadata": {},
     "output_type": "execute_result"
    }
   ],
   "source": [
    "program.get_message_defitions_dict_for_widget()"
   ]
  },
  {
   "cell_type": "code",
   "execution_count": null,
   "metadata": {
    "collapsed": true
   },
   "outputs": [],
   "source": []
  },
  {
   "cell_type": "code",
   "execution_count": 16,
   "metadata": {
    "collapsed": false
   },
   "outputs": [
    {
     "name": "stdout",
     "output_type": "stream",
     "text": [
      "changed to  2\n",
      "changed to  2\n",
      "changed to  2\n",
      "changed to  3\n",
      "changed to  3\n",
      "changed to  3\n",
      "changed to  3\n"
     ]
    }
   ],
   "source": [
    "w"
   ]
  },
  {
   "cell_type": "code",
   "execution_count": 9,
   "metadata": {
    "collapsed": true
   },
   "outputs": [],
   "source": [
    "widgets.Select(\n",
    "    options=['Linux', 'Windows', 'OSX'],\n",
    "    value='OSX',\n",
    "    # rows=10,\n",
    "    description='OS:',\n",
    "    disabled=False\n",
    ")"
   ]
  },
  {
   "cell_type": "code",
   "execution_count": 9,
   "metadata": {
    "collapsed": false
   },
   "outputs": [],
   "source": [
    "def on_change(change):\n",
    "    if change['type'] == 'change' and change['name'] == 'value':\n",
    "        print(\"changed to \", change['new'])\n",
    "\n",
    "w.observe(on_change)"
   ]
  }
 ],
 "metadata": {
  "anaconda-cloud": {},
  "kernelspec": {
   "display_name": "Python [default]",
   "language": "python",
   "name": "python3"
  },
  "language_info": {
   "codemirror_mode": {
    "name": "ipython",
    "version": 3
   },
   "file_extension": ".py",
   "mimetype": "text/x-python",
   "name": "python",
   "nbconvert_exporter": "python",
   "pygments_lexer": "ipython3",
   "version": "3.5.2"
  },
  "widgets": {
   "state": {
    "1af0b7da66f8468a93a86a6ef47ed568": {
     "views": [
      {
       "cell_index": 4
      }
     ]
    },
    "1cad977986df41a8b208ac76848714dd": {
     "views": [
      {
       "cell_index": 6
      }
     ]
    },
    "3da0172622b1467bb395856a1f62c82e": {
     "views": [
      {
       "cell_index": 4
      }
     ]
    }
   },
   "version": "1.2.0"
  }
 },
 "nbformat": 4,
 "nbformat_minor": 1
}
