{
 "cells": [
  {
   "cell_type": "markdown",
   "metadata": {
    "collapsed": true
   },
   "source": [
    "Visualize CAN Data"
   ]
  },
  {
   "cell_type": "code",
   "execution_count": 1,
   "metadata": {
    "collapsed": false
   },
   "outputs": [
    {
     "name": "stdout",
     "output_type": "stream",
     "text": [
      "Program Class\n"
     ]
    }
   ],
   "source": [
    "from program import Program\n",
    "program = Program('c000003', 'TSC1EMSTECU_EngReqTrq_HR', 'data/convereted_dbc_to_json.json', \"data/trace.asc\")\n",
    "#program.plot()\n",
    "#program.get_dataframe_from_signal_data()\n",
    "#program.rt_signal_data"
   ]
  },
  {
   "cell_type": "code",
   "execution_count": 2,
   "metadata": {
    "collapsed": false
   },
   "outputs": [
    {
     "ename": "AttributeError",
     "evalue": "'NoneType' object has no attribute 'magic'",
     "output_type": "error",
     "traceback": [
      "\u001b[0;31m---------------------------------------------------------------------------\u001b[0m",
      "\u001b[0;31mAttributeError\u001b[0m                            Traceback (most recent call last)",
      "\u001b[0;32m<ipython-input-2-73ce2b5d589d>\u001b[0m in \u001b[0;36m<module>\u001b[0;34m()\u001b[0m\n\u001b[0;32m----> 1\u001b[0;31m \u001b[0mprogram\u001b[0m\u001b[0;34m.\u001b[0m\u001b[0mget_reduced_list_of_signal_data\u001b[0m\u001b[0;34m(\u001b[0m\u001b[0;34m)\u001b[0m\u001b[0;34m\u001b[0m\u001b[0m\n\u001b[0m",
      "\u001b[0;32m/Users/evisa/Projects/pyVehicleNetwork/program.py\u001b[0m in \u001b[0;36mget_reduced_list_of_signal_data\u001b[0;34m(self)\u001b[0m\n\u001b[1;32m     56\u001b[0m \u001b[0;34m\u001b[0m\u001b[0m\n\u001b[1;32m     57\u001b[0m     \u001b[0;32mdef\u001b[0m \u001b[0mget_reduced_list_of_signal_data\u001b[0m\u001b[0;34m(\u001b[0m\u001b[0mself\u001b[0m\u001b[0;34m)\u001b[0m\u001b[0;34m:\u001b[0m\u001b[0;34m\u001b[0m\u001b[0m\n\u001b[0;32m---> 58\u001b[0;31m         \u001b[0mtest\u001b[0m \u001b[0;34m=\u001b[0m \u001b[0;34m[\u001b[0m\u001b[0msig_data\u001b[0m\u001b[0;34m.\u001b[0m\u001b[0mmagic\u001b[0m\u001b[0;34m(\u001b[0m\u001b[0;34m)\u001b[0m \u001b[0;32mfor\u001b[0m \u001b[0msig_data\u001b[0m \u001b[0;32min\u001b[0m \u001b[0mself\u001b[0m\u001b[0;34m.\u001b[0m\u001b[0mrt_signal_data\u001b[0m\u001b[0;34m]\u001b[0m\u001b[0;34m\u001b[0m\u001b[0m\n\u001b[0m\u001b[1;32m     59\u001b[0m         \u001b[0;31m#test = list(map(self.magic, self.rt_signal_data))\u001b[0m\u001b[0;34m\u001b[0m\u001b[0;34m\u001b[0m\u001b[0m\n\u001b[1;32m     60\u001b[0m         \u001b[0;31m#test = self.magic()\u001b[0m\u001b[0;34m\u001b[0m\u001b[0;34m\u001b[0m\u001b[0m\n",
      "\u001b[0;32m/Users/evisa/Projects/pyVehicleNetwork/program.py\u001b[0m in \u001b[0;36m<listcomp>\u001b[0;34m(.0)\u001b[0m\n\u001b[1;32m     56\u001b[0m \u001b[0;34m\u001b[0m\u001b[0m\n\u001b[1;32m     57\u001b[0m     \u001b[0;32mdef\u001b[0m \u001b[0mget_reduced_list_of_signal_data\u001b[0m\u001b[0;34m(\u001b[0m\u001b[0mself\u001b[0m\u001b[0;34m)\u001b[0m\u001b[0;34m:\u001b[0m\u001b[0;34m\u001b[0m\u001b[0m\n\u001b[0;32m---> 58\u001b[0;31m         \u001b[0mtest\u001b[0m \u001b[0;34m=\u001b[0m \u001b[0;34m[\u001b[0m\u001b[0msig_data\u001b[0m\u001b[0;34m.\u001b[0m\u001b[0mmagic\u001b[0m\u001b[0;34m(\u001b[0m\u001b[0;34m)\u001b[0m \u001b[0;32mfor\u001b[0m \u001b[0msig_data\u001b[0m \u001b[0;32min\u001b[0m \u001b[0mself\u001b[0m\u001b[0;34m.\u001b[0m\u001b[0mrt_signal_data\u001b[0m\u001b[0;34m]\u001b[0m\u001b[0;34m\u001b[0m\u001b[0m\n\u001b[0m\u001b[1;32m     59\u001b[0m         \u001b[0;31m#test = list(map(self.magic, self.rt_signal_data))\u001b[0m\u001b[0;34m\u001b[0m\u001b[0;34m\u001b[0m\u001b[0m\n\u001b[1;32m     60\u001b[0m         \u001b[0;31m#test = self.magic()\u001b[0m\u001b[0;34m\u001b[0m\u001b[0;34m\u001b[0m\u001b[0m\n",
      "\u001b[0;31mAttributeError\u001b[0m: 'NoneType' object has no attribute 'magic'"
     ]
    }
   ],
   "source": [
    "program.get_reduced_list_of_signal_data()"
   ]
  },
  {
   "cell_type": "code",
   "execution_count": 6,
   "metadata": {
    "collapsed": false
   },
   "outputs": [
    {
     "name": "stdout",
     "output_type": "stream",
     "text": [
      "{'message_id': 'c000003', 'signal_value': 0, 'timestamp': '18.8550', 'signal_name': 'TSC1EMSTECU_MessageChecksum'}\n",
      "{'message_id': 'c000003', 'signal_value': 0, 'timestamp': '18.8550', 'signal_name': 'TSC1EMSTECU_MessageCounter'}\n",
      "{'message_id': 'c000003', 'signal_value': 15, 'timestamp': '18.8550', 'signal_name': 'TSC1EMSTECU_EngReqTrq_HR'}\n",
      "{'message_id': 'c000003', 'signal_value': 7, 'timestamp': '18.8550', 'signal_name': 'TSC1EMSTECU_ControlPurpose'}\n",
      "{'message_id': 'c000003', 'signal_value': 0, 'timestamp': '18.8550', 'signal_name': 'TSC1EMSTECU_TransRate'}\n",
      "{'message_id': 'c000003', 'signal_value': 0, 'timestamp': '18.8550', 'signal_name': 'TSC1EMSTECU_EnRSpdSpdLm'}\n",
      "{'message_id': 'c000003', 'signal_value': 3, 'timestamp': '18.8550', 'signal_name': 'TSC1EMSTECU_EnOvrdCtrlM'}\n",
      "{'message_id': 'c000003', 'signal_value': 1, 'timestamp': '18.8550', 'signal_name': 'TSC1EMSTECU_OvrdCtrlMPr'}\n",
      "{'message_id': 'c000003', 'signal_value': 0, 'timestamp': '18.8550', 'signal_name': 'TSC1EMSTECU_EnRSpdCtrlC'}\n",
      "{'message_id': 'c000003', 'signal_value': 250, 'timestamp': '18.8550', 'signal_name': 'TSC1EMSTECU_EnRTrqTrqLm'}\n"
     ]
    }
   ],
   "source": [
    "type(program.rt_signal_data[0])\n",
    "for x in program.rt_signal_data[0].do_magic():\n",
    "    print(x.to_dict())"
   ]
  }
 ],
 "metadata": {
  "anaconda-cloud": {},
  "kernelspec": {
   "display_name": "Python [default]",
   "language": "python",
   "name": "python3"
  },
  "language_info": {
   "codemirror_mode": {
    "name": "ipython",
    "version": 3
   },
   "file_extension": ".py",
   "mimetype": "text/x-python",
   "name": "python",
   "nbconvert_exporter": "python",
   "pygments_lexer": "ipython3",
   "version": "3.5.2"
  }
 },
 "nbformat": 4,
 "nbformat_minor": 1
}
