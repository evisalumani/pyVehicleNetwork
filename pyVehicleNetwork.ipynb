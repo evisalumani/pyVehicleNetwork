{
 "cells": [
  {
   "cell_type": "markdown",
   "metadata": {
    "collapsed": true
   },
   "source": [
    "Visualize CAN Data"
   ]
  },
  {
   "cell_type": "code",
   "execution_count": 1,
   "metadata": {
    "collapsed": false
   },
   "outputs": [
    {
     "name": "stdout",
     "output_type": "stream",
     "text": [
      "Program Class\n"
     ]
    }
   ],
   "source": [
    "from program import Program\n",
    "program = Program('c000003', 'TSC1EMSTECU_EngReqTrq_HR', 'data/convereted_dbc_to_json.json', \"data/trace.asc\")\n",
    "#program.plot()\n",
    "#program.get_dataframe_from_signal_data()\n",
    "#program.rt_signal_data"
   ]
  },
  {
   "cell_type": "code",
   "execution_count": 2,
   "metadata": {
    "collapsed": false
   },
   "outputs": [
    {
     "name": "stdout",
     "output_type": "stream",
     "text": [
      "{'message_id': 'c000003', 'signal_value': 0, 'timestamp': '18.8550', 'signal_name': 'TSC1EMSTECU_MessageChecksum'}\n"
     ]
    }
   ],
   "source": [
    "program.get_reduced_list_of_signal_data()"
   ]
  },
  {
   "cell_type": "code",
   "execution_count": 4,
   "metadata": {
    "collapsed": false
   },
   "outputs": [
    {
     "name": "stdout",
     "output_type": "stream",
     "text": [
      "{'signal_name': 'TSC1EMSTECU_MessageChecksum', 'timestamp': '18.8550', 'signal_value': 0, 'message_id': 'c000003'}\n",
      "{'signal_name': 'TSC1EMSTECU_MessageCounter', 'timestamp': '18.8550', 'signal_value': 0, 'message_id': 'c000003'}\n",
      "{'signal_name': 'TSC1EMSTECU_EngReqTrq_HR', 'timestamp': '18.8550', 'signal_value': 15, 'message_id': 'c000003'}\n",
      "{'signal_name': 'TSC1EMSTECU_ControlPurpose', 'timestamp': '18.8550', 'signal_value': 7, 'message_id': 'c000003'}\n",
      "{'signal_name': 'TSC1EMSTECU_TransRate', 'timestamp': '18.8550', 'signal_value': 0, 'message_id': 'c000003'}\n",
      "{'signal_name': 'TSC1EMSTECU_EnRSpdSpdLm', 'timestamp': '18.8550', 'signal_value': 0, 'message_id': 'c000003'}\n",
      "{'signal_name': 'TSC1EMSTECU_EnOvrdCtrlM', 'timestamp': '18.8550', 'signal_value': 3, 'message_id': 'c000003'}\n",
      "{'signal_name': 'TSC1EMSTECU_OvrdCtrlMPr', 'timestamp': '18.8550', 'signal_value': 1, 'message_id': 'c000003'}\n",
      "{'signal_name': 'TSC1EMSTECU_EnRSpdCtrlC', 'timestamp': '18.8550', 'signal_value': 0, 'message_id': 'c000003'}\n",
      "{'signal_name': 'TSC1EMSTECU_EnRTrqTrqLm', 'timestamp': '18.8550', 'signal_value': 250, 'message_id': 'c000003'}\n"
     ]
    }
   ],
   "source": [
    "type(program.rt_signal_data[0])\n",
    "for x in program.rt_signal_data[0].do_magic():\n",
    "    print(x.to_dict())"
   ]
  }
 ],
 "metadata": {
  "anaconda-cloud": {},
  "kernelspec": {
   "display_name": "Python [default]",
   "language": "python",
   "name": "python3"
  },
  "language_info": {
   "codemirror_mode": {
    "name": "ipython",
    "version": 3
   },
   "file_extension": ".py",
   "mimetype": "text/x-python",
   "name": "python",
   "nbconvert_exporter": "python",
   "pygments_lexer": "ipython3",
   "version": "3.5.2"
  }
 },
 "nbformat": 4,
 "nbformat_minor": 1
}
